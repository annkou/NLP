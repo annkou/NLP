{
 "cells": [
  {
   "cell_type": "markdown",
   "metadata": {},
   "source": [
    "##### Import libraries"
   ]
  },
  {
   "cell_type": "markdown",
   "metadata": {},
   "source": [
    "##### Scrape tweets using TWINT "
   ]
  },
  {
   "cell_type": "markdown",
   "metadata": {},
   "source": [
    "Twint is an advanced Twitter scraping tool written in Python that allows for scraping Tweets from Twitter profiles without using Twitter's API.      \n",
    "\n",
    "While the Twitter API only allows you to scrape 3200 Tweets at once, Twint has no limit.       \n",
    "\n",
    "It is very quick to set up, and you don't need any kind of authentication or access permission.      "
   ]
  },
  {
   "cell_type": "code",
   "execution_count": 1,
   "metadata": {},
   "outputs": [
    {
     "name": "stdout",
     "output_type": "stream",
     "text": [
      "Requirement already satisfied: Twint in c:\\users\\fsu_eydap\\appdata\\local\\programs\\python\\python37\\lib\\site-packages (2.1.20)\n",
      "Requirement already satisfied: cchardet in c:\\users\\fsu_eydap\\appdata\\local\\programs\\python\\python37\\lib\\site-packages (from Twint) (2.1.7)\n",
      "Requirement already satisfied: aiohttp-socks in c:\\users\\fsu_eydap\\appdata\\local\\programs\\python\\python37\\lib\\site-packages (from Twint) (0.7.1)\n",
      "Requirement already satisfied: schedule in c:\\users\\fsu_eydap\\appdata\\local\\programs\\python\\python37\\lib\\site-packages (from Twint) (1.1.0)\n",
      "Requirement already satisfied: pandas in c:\\users\\fsu_eydap\\appdata\\local\\programs\\python\\python37\\lib\\site-packages (from Twint) (1.3.5)\n",
      "Requirement already satisfied: geopy in c:\\users\\fsu_eydap\\appdata\\local\\programs\\python\\python37\\lib\\site-packages (from Twint) (2.2.0)\n",
      "Requirement already satisfied: fake-useragent in c:\\users\\fsu_eydap\\appdata\\local\\programs\\python\\python37\\lib\\site-packages (from Twint) (0.1.14)\n",
      "Requirement already satisfied: aiohttp in c:\\users\\fsu_eydap\\appdata\\local\\programs\\python\\python37\\lib\\site-packages (from Twint) (3.8.3)\n",
      "Requirement already satisfied: aiodns in c:\\users\\fsu_eydap\\appdata\\local\\programs\\python\\python37\\lib\\site-packages (from Twint) (3.0.0)\n",
      "Requirement already satisfied: pysocks in c:\\users\\fsu_eydap\\appdata\\local\\programs\\python\\python37\\lib\\site-packages (from Twint) (1.7.1)\n",
      "Requirement already satisfied: googletransx in c:\\users\\fsu_eydap\\appdata\\local\\programs\\python\\python37\\lib\\site-packages (from Twint) (2.4.2)\n",
      "Requirement already satisfied: elasticsearch in c:\\users\\fsu_eydap\\appdata\\local\\programs\\python\\python37\\lib\\site-packages (from Twint) (8.5.0)\n",
      "Requirement already satisfied: beautifulsoup4 in c:\\users\\fsu_eydap\\appdata\\local\\programs\\python\\python37\\lib\\site-packages (from Twint) (4.11.1)\n",
      "Requirement already satisfied: attrs>=19.2.0 in c:\\users\\fsu_eydap\\appdata\\local\\programs\\python\\python37\\lib\\site-packages (from aiohttp-socks->Twint) (22.1.0)\n",
      "Requirement already satisfied: python-socks[asyncio]<3.0.0,>=2.0.0 in c:\\users\\fsu_eydap\\appdata\\local\\programs\\python\\python37\\lib\\site-packages (from aiohttp-socks->Twint) (2.0.3)\n",
      "Requirement already satisfied: python-dateutil>=2.7.3 in c:\\users\\fsu_eydap\\appdata\\local\\programs\\python\\python37\\lib\\site-packages (from pandas->Twint) (2.8.2)\n",
      "Requirement already satisfied: pytz>=2017.3 in c:\\users\\fsu_eydap\\appdata\\local\\programs\\python\\python37\\lib\\site-packages (from pandas->Twint) (2022.2.1)\n",
      "Requirement already satisfied: numpy>=1.17.3; platform_machine != \"aarch64\" and platform_machine != \"arm64\" and python_version < \"3.10\" in c:\\users\\fsu_eydap\\appdata\\local\\programs\\python\\python37\\lib\\site-packages (from pandas->Twint) (1.21.6)\n",
      "Requirement already satisfied: geographiclib<2,>=1.49 in c:\\users\\fsu_eydap\\appdata\\local\\programs\\python\\python37\\lib\\site-packages (from geopy->Twint) (1.52)\n",
      "Requirement already satisfied: frozenlist>=1.1.1 in c:\\users\\fsu_eydap\\appdata\\local\\programs\\python\\python37\\lib\\site-packages (from aiohttp->Twint) (1.3.3)\n",
      "Requirement already satisfied: typing-extensions>=3.7.4; python_version < \"3.8\" in c:\\users\\fsu_eydap\\appdata\\local\\programs\\python\\python37\\lib\\site-packages (from aiohttp->Twint) (4.3.0)\n",
      "Requirement already satisfied: multidict<7.0,>=4.5 in c:\\users\\fsu_eydap\\appdata\\local\\programs\\python\\python37\\lib\\site-packages (from aiohttp->Twint) (6.0.2)\n",
      "Requirement already satisfied: asynctest==0.13.0; python_version < \"3.8\" in c:\\users\\fsu_eydap\\appdata\\local\\programs\\python\\python37\\lib\\site-packages (from aiohttp->Twint) (0.13.0)\n",
      "Requirement already satisfied: aiosignal>=1.1.2 in c:\\users\\fsu_eydap\\appdata\\local\\programs\\python\\python37\\lib\\site-packages (from aiohttp->Twint) (1.3.1)\n",
      "Requirement already satisfied: yarl<2.0,>=1.0 in c:\\users\\fsu_eydap\\appdata\\local\\programs\\python\\python37\\lib\\site-packages (from aiohttp->Twint) (1.8.1)\n",
      "Requirement already satisfied: charset-normalizer<3.0,>=2.0 in c:\\users\\fsu_eydap\\appdata\\local\\programs\\python\\python37\\lib\\site-packages (from aiohttp->Twint) (2.1.1)\n",
      "Requirement already satisfied: async-timeout<5.0,>=4.0.0a3 in c:\\users\\fsu_eydap\\appdata\\local\\programs\\python\\python37\\lib\\site-packages (from aiohttp->Twint) (4.0.2)\n",
      "Requirement already satisfied: pycares>=4.0.0 in c:\\users\\fsu_eydap\\appdata\\local\\programs\\python\\python37\\lib\\site-packages (from aiodns->Twint) (4.2.2)\n",
      "Requirement already satisfied: requests in c:\\users\\fsu_eydap\\appdata\\local\\programs\\python\\python37\\lib\\site-packages (from googletransx->Twint) (2.28.1)\n",
      "Requirement already satisfied: elastic-transport<9,>=8 in c:\\users\\fsu_eydap\\appdata\\local\\programs\\python\\python37\\lib\\site-packages (from elasticsearch->Twint) (8.4.0)\n",
      "Requirement already satisfied: soupsieve>1.2 in c:\\users\\fsu_eydap\\appdata\\local\\programs\\python\\python37\\lib\\site-packages (from beautifulsoup4->Twint) (2.3.2.post1)\n",
      "Requirement already satisfied: six>=1.5 in c:\\users\\fsu_eydap\\appdata\\local\\programs\\python\\python37\\lib\\site-packages (from python-dateutil>=2.7.3->pandas->Twint) (1.12.0)\n",
      "Requirement already satisfied: idna>=2.0 in c:\\users\\fsu_eydap\\appdata\\local\\programs\\python\\python37\\lib\\site-packages (from yarl<2.0,>=1.0->aiohttp->Twint) (3.4)\n",
      "Requirement already satisfied: cffi>=1.5.0 in c:\\users\\fsu_eydap\\appdata\\local\\programs\\python\\python37\\lib\\site-packages (from pycares>=4.0.0->aiodns->Twint) (1.15.1)\n",
      "Requirement already satisfied: urllib3<1.27,>=1.21.1 in c:\\users\\fsu_eydap\\appdata\\local\\programs\\python\\python37\\lib\\site-packages (from requests->googletransx->Twint) (1.26.12)\n",
      "Requirement already satisfied: certifi>=2017.4.17 in c:\\users\\fsu_eydap\\appdata\\local\\programs\\python\\python37\\lib\\site-packages (from requests->googletransx->Twint) (2022.9.24)\n",
      "Requirement already satisfied: pycparser in c:\\users\\fsu_eydap\\appdata\\local\\programs\\python\\python37\\lib\\site-packages (from cffi>=1.5.0->pycares>=4.0.0->aiodns->Twint) (2.21)\n",
      "Note: you may need to restart the kernel to use updated packages.\n"
     ]
    },
    {
     "name": "stderr",
     "output_type": "stream",
     "text": [
      "You are using pip version 19.0.3, however version 22.3.1 is available.\n",
      "You should consider upgrading via the 'python -m pip install --upgrade pip' command.\n"
     ]
    }
   ],
   "source": [
    "pip install Twint"
   ]
  },
  {
   "cell_type": "code",
   "execution_count": null,
   "metadata": {},
   "outputs": [],
   "source": [
    "import warnings\n",
    "warnings.filterwarnings(\"ignore\")"
   ]
  },
  {
   "cell_type": "code",
   "execution_count": 2,
   "metadata": {},
   "outputs": [],
   "source": [
    "import pandas as pd\n",
    "import numpy as np\n",
    "import matplotlib.pyplot as plt\n",
    "%matplotlib inline"
   ]
  },
  {
   "cell_type": "code",
   "execution_count": 4,
   "metadata": {},
   "outputs": [],
   "source": [
    "import nest_asyncio\n",
    "nest_asyncio.apply()"
   ]
  },
  {
   "cell_type": "code",
   "execution_count": 5,
   "metadata": {},
   "outputs": [
    {
     "ename": "ImportError",
     "evalue": "cannot import name 'CeilTimeout' from 'aiohttp.helpers' (c:\\Users\\FSU_EYDAP\\AppData\\Local\\Programs\\Python\\Python37\\lib\\site-packages\\aiohttp\\helpers.py)",
     "output_type": "error",
     "traceback": [
      "\u001b[1;31m---------------------------------------------------------------------------\u001b[0m",
      "\u001b[1;31mImportError\u001b[0m                               Traceback (most recent call last)",
      "\u001b[1;32m~\\AppData\\Local\\Temp\\ipykernel_12028\\3032468839.py\u001b[0m in \u001b[0;36m<module>\u001b[1;34m\u001b[0m\n\u001b[1;32m----> 1\u001b[1;33m \u001b[1;32mimport\u001b[0m \u001b[0mtwint\u001b[0m\u001b[1;33m\u001b[0m\u001b[1;33m\u001b[0m\u001b[0m\n\u001b[0m\u001b[0;32m      2\u001b[0m \u001b[0mdata\u001b[0m \u001b[1;33m=\u001b[0m \u001b[0mtwint\u001b[0m\u001b[1;33m.\u001b[0m\u001b[0mConfig\u001b[0m\u001b[1;33m(\u001b[0m\u001b[1;33m)\u001b[0m\u001b[1;33m\u001b[0m\u001b[1;33m\u001b[0m\u001b[0m\n\u001b[0;32m      3\u001b[0m \u001b[0mdata\u001b[0m\u001b[1;33m.\u001b[0m\u001b[0msearch\u001b[0m \u001b[1;33m=\u001b[0m \u001b[1;33m[\u001b[0m\u001b[1;34m'best stocks'\u001b[0m\u001b[1;33m]\u001b[0m \u001b[1;31m# topic\u001b[0m\u001b[1;33m\u001b[0m\u001b[1;33m\u001b[0m\u001b[0m\n\u001b[0;32m      4\u001b[0m \u001b[0mdata\u001b[0m\u001b[1;33m.\u001b[0m\u001b[0mlimit\u001b[0m \u001b[1;33m=\u001b[0m \u001b[1;36m20\u001b[0m \u001b[1;31m#number of tweets to scrape\u001b[0m\u001b[1;33m\u001b[0m\u001b[1;33m\u001b[0m\u001b[0m\n\u001b[0;32m      5\u001b[0m \u001b[0mdata\u001b[0m\u001b[1;33m.\u001b[0m\u001b[0mStore_csv\u001b[0m \u001b[1;33m=\u001b[0m \u001b[1;32mTrue\u001b[0m \u001b[1;31m#to store into a csv\u001b[0m\u001b[1;33m\u001b[0m\u001b[1;33m\u001b[0m\u001b[0m\n",
      "\u001b[1;32mc:\\Users\\FSU_EYDAP\\AppData\\Local\\Programs\\Python\\Python37\\lib\\site-packages\\twint\\__init__.py\u001b[0m in \u001b[0;36m<module>\u001b[1;34m\u001b[0m\n\u001b[0;32m     12\u001b[0m \u001b[1;32mfrom\u001b[0m \u001b[1;33m.\u001b[0m\u001b[0mconfig\u001b[0m \u001b[1;32mimport\u001b[0m \u001b[0mConfig\u001b[0m\u001b[1;33m\u001b[0m\u001b[1;33m\u001b[0m\u001b[0m\n\u001b[0;32m     13\u001b[0m \u001b[1;32mfrom\u001b[0m \u001b[1;33m.\u001b[0m\u001b[0m__version__\u001b[0m \u001b[1;32mimport\u001b[0m \u001b[0m__version__\u001b[0m\u001b[1;33m\u001b[0m\u001b[1;33m\u001b[0m\u001b[0m\n\u001b[1;32m---> 14\u001b[1;33m \u001b[1;32mfrom\u001b[0m \u001b[1;33m.\u001b[0m \u001b[1;32mimport\u001b[0m \u001b[0mrun\u001b[0m\u001b[1;33m\u001b[0m\u001b[1;33m\u001b[0m\u001b[0m\n\u001b[0m\u001b[0;32m     15\u001b[0m \u001b[1;33m\u001b[0m\u001b[0m\n\u001b[0;32m     16\u001b[0m _levels = {\n",
      "\u001b[1;32mc:\\Users\\FSU_EYDAP\\AppData\\Local\\Programs\\Python\\Python37\\lib\\site-packages\\twint\\run.py\u001b[0m in \u001b[0;36m<module>\u001b[1;34m\u001b[0m\n\u001b[0;32m      2\u001b[0m \u001b[1;32mfrom\u001b[0m \u001b[0masyncio\u001b[0m \u001b[1;32mimport\u001b[0m \u001b[0mget_event_loop\u001b[0m\u001b[1;33m,\u001b[0m \u001b[0mTimeoutError\u001b[0m\u001b[1;33m,\u001b[0m \u001b[0mensure_future\u001b[0m\u001b[1;33m,\u001b[0m \u001b[0mnew_event_loop\u001b[0m\u001b[1;33m,\u001b[0m \u001b[0mset_event_loop\u001b[0m\u001b[1;33m\u001b[0m\u001b[1;33m\u001b[0m\u001b[0m\n\u001b[0;32m      3\u001b[0m \u001b[1;33m\u001b[0m\u001b[0m\n\u001b[1;32m----> 4\u001b[1;33m \u001b[1;32mfrom\u001b[0m \u001b[1;33m.\u001b[0m \u001b[1;32mimport\u001b[0m \u001b[0mdatelock\u001b[0m\u001b[1;33m,\u001b[0m \u001b[0mfeed\u001b[0m\u001b[1;33m,\u001b[0m \u001b[0mget\u001b[0m\u001b[1;33m,\u001b[0m \u001b[0moutput\u001b[0m\u001b[1;33m,\u001b[0m \u001b[0mverbose\u001b[0m\u001b[1;33m,\u001b[0m \u001b[0mstorage\u001b[0m\u001b[1;33m\u001b[0m\u001b[1;33m\u001b[0m\u001b[0m\n\u001b[0m\u001b[0;32m      5\u001b[0m \u001b[1;32mfrom\u001b[0m \u001b[1;33m.\u001b[0m\u001b[0mtoken\u001b[0m \u001b[1;32mimport\u001b[0m \u001b[0mTokenExpiryException\u001b[0m\u001b[1;33m\u001b[0m\u001b[1;33m\u001b[0m\u001b[0m\n\u001b[0;32m      6\u001b[0m \u001b[1;32mfrom\u001b[0m \u001b[1;33m.\u001b[0m \u001b[1;32mimport\u001b[0m \u001b[0mtoken\u001b[0m\u001b[1;33m\u001b[0m\u001b[1;33m\u001b[0m\u001b[0m\n",
      "\u001b[1;32mc:\\Users\\FSU_EYDAP\\AppData\\Local\\Programs\\Python\\Python37\\lib\\site-packages\\twint\\get.py\u001b[0m in \u001b[0;36m<module>\u001b[1;34m\u001b[0m\n\u001b[0;32m     10\u001b[0m \u001b[1;32mimport\u001b[0m \u001b[0mrandom\u001b[0m\u001b[1;33m\u001b[0m\u001b[1;33m\u001b[0m\u001b[0m\n\u001b[0;32m     11\u001b[0m \u001b[1;32mfrom\u001b[0m \u001b[0mjson\u001b[0m \u001b[1;32mimport\u001b[0m \u001b[0mloads\u001b[0m\u001b[1;33m,\u001b[0m \u001b[0mdumps\u001b[0m\u001b[1;33m\u001b[0m\u001b[1;33m\u001b[0m\u001b[0m\n\u001b[1;32m---> 12\u001b[1;33m \u001b[1;32mfrom\u001b[0m \u001b[0maiohttp_socks\u001b[0m \u001b[1;32mimport\u001b[0m \u001b[0mProxyConnector\u001b[0m\u001b[1;33m,\u001b[0m \u001b[0mProxyType\u001b[0m\u001b[1;33m\u001b[0m\u001b[1;33m\u001b[0m\u001b[0m\n\u001b[0m\u001b[0;32m     13\u001b[0m \u001b[1;32mfrom\u001b[0m \u001b[0murllib\u001b[0m\u001b[1;33m.\u001b[0m\u001b[0mparse\u001b[0m \u001b[1;32mimport\u001b[0m \u001b[0mquote\u001b[0m\u001b[1;33m\u001b[0m\u001b[1;33m\u001b[0m\u001b[0m\n\u001b[0;32m     14\u001b[0m \u001b[1;33m\u001b[0m\u001b[0m\n",
      "\u001b[1;32mc:\\Users\\FSU_EYDAP\\AppData\\Local\\Programs\\Python\\Python37\\lib\\site-packages\\aiohttp_socks\\__init__.py\u001b[0m in \u001b[0;36m<module>\u001b[1;34m\u001b[0m\n\u001b[0;32m      3\u001b[0m \u001b[1;33m\u001b[0m\u001b[0m\n\u001b[0;32m      4\u001b[0m \u001b[1;32mfrom\u001b[0m \u001b[1;33m.\u001b[0m\u001b[0mproxy\u001b[0m \u001b[1;32mimport\u001b[0m \u001b[0mSocksVer\u001b[0m\u001b[1;33m,\u001b[0m \u001b[0mProxyType\u001b[0m\u001b[1;33m\u001b[0m\u001b[1;33m\u001b[0m\u001b[0m\n\u001b[1;32m----> 5\u001b[1;33m from .connector import (\n\u001b[0m\u001b[0;32m      6\u001b[0m     \u001b[0mSocksConnector\u001b[0m\u001b[1;33m,\u001b[0m \u001b[0mProxyConnector\u001b[0m\u001b[1;33m,\u001b[0m\u001b[1;33m\u001b[0m\u001b[1;33m\u001b[0m\u001b[0m\n\u001b[0;32m      7\u001b[0m     \u001b[0mChainProxyConnector\u001b[0m\u001b[1;33m,\u001b[0m \u001b[0mProxyInfo\u001b[0m\u001b[1;33m\u001b[0m\u001b[1;33m\u001b[0m\u001b[0m\n",
      "\u001b[1;32mc:\\Users\\FSU_EYDAP\\AppData\\Local\\Programs\\Python\\Python37\\lib\\site-packages\\aiohttp_socks\\connector.py\u001b[0m in \u001b[0;36m<module>\u001b[1;34m\u001b[0m\n\u001b[0;32m      6\u001b[0m \u001b[1;32mfrom\u001b[0m \u001b[0maiohttp\u001b[0m \u001b[1;32mimport\u001b[0m \u001b[0mTCPConnector\u001b[0m\u001b[1;33m\u001b[0m\u001b[1;33m\u001b[0m\u001b[0m\n\u001b[0;32m      7\u001b[0m \u001b[1;32mfrom\u001b[0m \u001b[0maiohttp\u001b[0m\u001b[1;33m.\u001b[0m\u001b[0mabc\u001b[0m \u001b[1;32mimport\u001b[0m \u001b[0mAbstractResolver\u001b[0m\u001b[1;33m\u001b[0m\u001b[1;33m\u001b[0m\u001b[0m\n\u001b[1;32m----> 8\u001b[1;33m \u001b[1;32mfrom\u001b[0m \u001b[0maiohttp\u001b[0m\u001b[1;33m.\u001b[0m\u001b[0mhelpers\u001b[0m \u001b[1;32mimport\u001b[0m \u001b[0mCeilTimeout\u001b[0m  \u001b[1;31m# noqa\u001b[0m\u001b[1;33m\u001b[0m\u001b[1;33m\u001b[0m\u001b[0m\n\u001b[0m\u001b[0;32m      9\u001b[0m \u001b[1;33m\u001b[0m\u001b[0m\n\u001b[0;32m     10\u001b[0m from .proxy import (ProxyType, SocksVer, ChainProxy,\n",
      "\u001b[1;31mImportError\u001b[0m: cannot import name 'CeilTimeout' from 'aiohttp.helpers' (c:\\Users\\FSU_EYDAP\\AppData\\Local\\Programs\\Python\\Python37\\lib\\site-packages\\aiohttp\\helpers.py)"
     ]
    }
   ],
   "source": [
    "import twint\n",
    "data = twint.Config()\n",
    "data.search = ['best stocks'] # topic\n",
    "data.limit = 20 #number of tweets to scrape \n",
    "data.Store_csv = True #to store into a csv\n",
    "data.Output = 'scraping1.csv'\n",
    "\n",
    "twint.run.Search(data)\n",
    "#because of problems running do this locally\n",
    "# git clone https://github.com/twintproject/twint.git\n",
    "# cd twint\n",
    "# python3 -m pip install -r requirement.txt\n",
    "# python3 -m pip install .\n"
   ]
  },
  {
   "cell_type": "code",
   "execution_count": null,
   "metadata": {},
   "outputs": [],
   "source": [
    "df = pd.read_csv('scraping1.csv')\n",
    "df"
   ]
  }
 ],
 "metadata": {
  "kernelspec": {
   "display_name": "Python 3.7.3 64-bit",
   "language": "python",
   "name": "python3"
  },
  "language_info": {
   "codemirror_mode": {
    "name": "ipython",
    "version": 3
   },
   "file_extension": ".py",
   "mimetype": "text/x-python",
   "name": "python",
   "nbconvert_exporter": "python",
   "pygments_lexer": "ipython3",
   "version": "3.7.3"
  },
  "orig_nbformat": 4,
  "vscode": {
   "interpreter": {
    "hash": "9ecc0d96076350d2e70adcf6a4dcf99de7a12563e7160d1a005b55ed951ae917"
   }
  }
 },
 "nbformat": 4,
 "nbformat_minor": 2
}
